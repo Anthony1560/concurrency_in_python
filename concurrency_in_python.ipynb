{
 "cells": [
  {
   "cell_type": "code",
   "execution_count": 19,
   "id": "6f505aec-5f94-45cc-ba21-942bac431914",
   "metadata": {},
   "outputs": [],
   "source": [
    "#13.1 Write the current date as a string to the text file today.txt\n",
    ">>> from datetime import date\n",
    ">>> now = date.today()\n",
    ">>> now_str = now.isoformat()\n",
    ">>> with open('today.txt', 'wt') as output:\n",
    "         print(now_str, file=output)\n",
    ">>>"
   ]
  },
  {
   "cell_type": "code",
   "execution_count": 17,
   "id": "2fcc078e-adfb-473f-ba92-182a866fd510",
   "metadata": {},
   "outputs": [
    {
     "data": {
      "text/plain": [
       "'2024-10-01\\n'"
      ]
     },
     "execution_count": 17,
     "metadata": {},
     "output_type": "execute_result"
    }
   ],
   "source": [
    "#13.2 Read the text file.txt into the string today_string\n",
    ">>> with open ('today.txt', 'r') as input:\n",
    "         today_string = input.read()\n",
    "\n",
    ">>> today_string \n",
    "'2024-10-01\\n'"
   ]
  },
  {
   "cell_type": "code",
   "execution_count": 33,
   "id": "00b749c0-40fc-40c5-9008-dcd37c09f55c",
   "metadata": {},
   "outputs": [
    {
     "name": "stdout",
     "output_type": "stream",
     "text": [
      "2024-10-01 00:00:00\n"
     ]
    }
   ],
   "source": [
    "# Parse the date from today_string\n",
    "from datetime import datetime\n",
    "today_string = '2024-10-01\\n'\n",
    "fmt = '%Y-%m-%d\\n'\n",
    "parsed_date = datetime.strptime(today_string, fmt)\n",
    "print(parsed_date)"
   ]
  },
  {
   "cell_type": "code",
   "execution_count": 49,
   "id": "27cca825-7254-4621-8b5c-9ba1e3753ef6",
   "metadata": {},
   "outputs": [],
   "source": [
    "import multiprocessing \n",
    "\n",
    "def now(seconds):\n",
    "    from datetime import datetime \n",
    "    from time import sleep\n",
    "    sleep(seconds)\n",
    "    print('wait', seconds, 'seconds, time is', datetime.utcnow())\n",
    "\n",
    "if __name__ == '__main__':\n",
    "    import random \n",
    "    for n in range(3):\n",
    "        seconds = random.random()\n",
    "        proc = multiprocessing.Process(target=now, args=(seconds,))\n",
    "        proc.start()"
   ]
  },
  {
   "cell_type": "code",
   "execution_count": null,
   "id": "57fcc521-5168-4407-af27-1624bcbb9670",
   "metadata": {},
   "outputs": [],
   "source": []
  }
 ],
 "metadata": {
  "kernelspec": {
   "display_name": "Python 3 (ipykernel)",
   "language": "python",
   "name": "python3"
  },
  "language_info": {
   "codemirror_mode": {
    "name": "ipython",
    "version": 3
   },
   "file_extension": ".py",
   "mimetype": "text/x-python",
   "name": "python",
   "nbconvert_exporter": "python",
   "pygments_lexer": "ipython3",
   "version": "3.12.4"
  }
 },
 "nbformat": 4,
 "nbformat_minor": 5
}
